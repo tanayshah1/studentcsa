{
 "cells": [
  {
   "cell_type": "raw",
   "metadata": {
    "vscode": {
     "languageId": "raw"
    }
   },
   "source": [
    "---\n",
    "layout: post\n",
    "title: Unit 2 — Recap & Homework\n",
    "description: A recap of everything we covered today.\n",
    "type: collab\n",
    "toc: true\n",
    "permalink: /csa/unit2/period3/homework/\n",
    "menu: nav/csa_unit2.html\n",
    "comments: true\n",
    "author: Aadit Mathur, Eric Yu, Shuban Pal, Rahul Verma\n",
    "---"
   ]
  },
  {
   "cell_type": "markdown",
   "metadata": {
    "vscode": {
     "languageId": "java"
    }
   },
   "source": [
    "# Homework\n",
    "Now, it's time to practice! The following problem will incorporate the following concepts:\n",
    "- Classes\n",
    "    - Constructors\n",
    "- Methods\n",
    "    - Void methods\n",
    "    - Non-void methods\n",
    "- Math class\n",
    "- `Integer` and `Double` wrapper classes\n",
    "- String methods"
   ]
  },
  {
   "cell_type": "code",
   "execution_count": 2,
   "metadata": {
    "vscode": {
     "languageId": "java"
    }
   },
   "outputs": [],
   "source": [
    "public class Circle {\n",
    "    // 1. Class variable: radius (double)\n",
    "    private double radius;\n",
    "\n",
    "    // 2. Constructor that takes in the radius as a parameter, and sets the radius property\n",
    "    public Circle(double radius) {\n",
    "        this.radius = radius;\n",
    "    }\n",
    "\n",
    "    // Getter method for radius\n",
    "    public double getRadius() {\n",
    "        return this.radius;\n",
    "    }\n",
    "\n",
    "    // 3. cirumference() method: Calculate and return the circumference\n",
    "    public double circumference() {\n",
    "        return 2 * Math.PI * this.radius;\n",
    "    }\n",
    "\n",
    "    // 4. area() method: Calculate and return the area, use Math.pow()\n",
    "    public double area() {\n",
    "        return Math.PI * Math.pow(this.radius, 2);\n",
    "    }\n",
    "}\n",
    "\n",
    "public class Student {\n",
    "    // 1. Class variables: name (String) and grade (Integer)\n",
    "    private String name;\n",
    "    private Integer grade;\n",
    "\n",
    "    // 2. Constructor to initialize name and grade\n",
    "    public Student(String name, Integer grade) {\n",
    "        this.name = name;\n",
    "        this.grade = grade;\n",
    "    }\n",
    "\n",
    "    // Getter method for name\n",
    "    public String getName() {\n",
    "        return this.name;\n",
    "    }\n",
    "\n",
    "    // 3. nameLength() method: Return the length of the student's name\n",
    "    public int nameLength() {\n",
    "        return this.name.length();\n",
    "    }\n",
    "\n",
    "    // 4. getGradeAsDouble() method: Return the grade as the Double wrapper type\n",
    "    public Double getGradeAsDouble() {\n",
    "        return this.grade.doubleValue();\n",
    "    }\n",
    "\n",
    "    // 5. getScaledGrade() method: Return grade divided by 2\n",
    "    public Double getScaledGrade() {\n",
    "        return this.grade / 2.0;\n",
    "    }\n",
    "}\n",
    "\n",
    "public class Main {\n",
    "    public static void main(String[] args) {\n",
    "        // Testing the Circle class\n",
    "        Circle circle1 = new Circle(5.0);\n",
    "        Circle circle2 = new Circle(7.0);\n",
    "\n",
    "        System.out.println(\"Circle 1:\");\n",
    "        System.out.println(\"Radius: \" + circle1.getRadius()); // Now using the getter method\n",
    "        System.out.println(\"Circumference: \" + circle1.circumference());\n",
    "        System.out.println(\"Area: \" + circle1.area());\n",
    "\n",
    "        System.out.println(\"\\nCircle 2:\");\n",
    "        System.out.println(\"Radius: \" + circle2.getRadius()); // Now using the getter method\n",
    "        System.out.println(\"Circumference: \" + circle2.circumference());\n",
    "        System.out.println(\"Area: \" + circle2.area());\n",
    "\n",
    "        // Testing the Student class\n",
    "        Student student1 = new Student(\"Aadit\", 75);\n",
    "        Student student2 = new Student(\"Emily\", 45);\n",
    "\n",
    "        System.out.println(\"\\nStudent 1:\");\n",
    "        System.out.println(\"Name: \" + student1.getName()); // Now using the getter method\n",
    "        System.out.println(\"Name Length: \" + student1.nameLength());\n",
    "        System.out.println(\"Grade: \" + student1.getGradeAsDouble());\n",
    "        System.out.println(\"Scaled Grade: \" + student1.getScaledGrade());\n",
    "\n",
    "        System.out.println(\"\\nStudent 2:\");\n",
    "        System.out.println(\"Name: \" + student2.getName()); // Now using the getter method\n",
    "        System.out.println(\"Name Length: \" + student2.nameLength());\n",
    "        System.out.println(\"Grade: \" + student2.getGradeAsDouble());\n",
    "        System.out.println(\"Scaled Grade: \" + student2.getScaledGrade());\n",
    "    }\n",
    "}\n"
   ]
  }
 ],
 "metadata": {
  "kernelspec": {
   "display_name": "Java",
   "language": "java",
   "name": "java"
  },
  "language_info": {
   "codemirror_mode": "java",
   "file_extension": ".jshell",
   "mimetype": "text/x-java-source",
   "name": "Java",
   "pygments_lexer": "java",
   "version": "17.0.12+8-LTS-286"
  }
 },
 "nbformat": 4,
 "nbformat_minor": 2
}
