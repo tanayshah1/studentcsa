{
 "cells": [
  {
   "cell_type": "raw",
   "metadata": {
    "vscode": {
     "languageId": "raw"
    }
   },
   "source": [
    "---\n",
    "layout: post\n",
    "title: Quiz Questions for APCSA Unit 2\n",
    "description: Quiz Questions and Code Cells for APCSA Unit 2 \n",
    "categories: [CSA-Quiz]\n",
    "permalink: /csa/units/quiz2\n",
    "menu: nav/csa_unit2.html\n",
    "author: Soham Kamat & Aniket Chakradeo\n",
    "---"
   ]
  },
  {
   "cell_type": "markdown",
   "metadata": {},
   "source": [
    "## Unit 2: Using Objects Quiz"
   ]
  },
  {
   "cell_type": "markdown",
   "metadata": {},
   "source": [
    "### Question 1\n",
    "**Which method can be used to convert a string to lowercase in Java?**\n",
    "\n",
    "a) `toLowerCase()`\n",
    "\n",
    "b) `lower()`\n",
    "\n",
    "c) `toLower()`\n",
    "\n",
    "d) `toLowerCase(String str)`\n",
    "\n",
    "**Answer:** a) `toLowerCase()`\n",
    "\n",
    "---\n",
    "\n"
   ]
  },
  {
   "cell_type": "markdown",
   "metadata": {},
   "source": [
    "Answer is A because toLowerCase() is the right command. B and C are incorrect because they aren't real Java commands. And D is incorrect because the parameter is wrong. "
   ]
  },
  {
   "cell_type": "code",
   "execution_count": 2,
   "metadata": {
    "vscode": {
     "languageId": "java"
    }
   },
   "outputs": [],
   "source": [
    "public class ArrayComparisonTest {\n",
    "    public static void main(String[] args) {\n",
    "        // Test case 1: Equal arrays (same case)\n",
    "        testArrayEquality(new String[]{\"a\", \"b\", \"c\"}, new String[]{\"a\", \"b\", \"c\"}); // Should print \"The arrays are equal\"\n",
    "\n",
    "        // Test case 2: Equal arrays (different case)\n",
    "        testArrayEquality(new String[]{\"a\", \"b\", \"c\"}, new String[]{\"A\", \"B\", \"C\"}); // Should print \"The arrays are equal\"\n",
    "\n",
    "        // Test case 3: Different lengths\n",
    "        testArrayEquality(new String[]{\"a\", \"b\"}, new String[]{\"A\", \"B\", \"C\"}); // Should print \"The arrays are not uniform\"\n",
    "\n",
    "        // Test case 4: Different elements\n",
    "        testArrayEquality(new String[]{\"a\", \"b\", \"c\"}, new String[]{\"A\", \"B\", \"D\"}); // Should print \"The arrays contain differences in elements\"\n",
    "\n",
    "        // Test case 5: Empty arrays\n",
    "        testArrayEquality(new String[]{}, new String[]{}); // Should print \"The arrays are equal\"\n",
    "    }\n",
    "\n",
    "    // Method to compare two string arrays and print the result\n",
    "    public static void testArrayEquality(String[] arr1, String[] arr2) {\n",
    "        String msg = \"The arrays are equal\";\n",
    "\n",
    "        if (arr1.length != arr2.length) {\n",
    "            msg = \"The arrays are not uniform\";\n",
    "        } else {\n",
    "            for (int i = 0; i < arr1.length; i++) {\n",
    "                if (!arr1[i].toLowerCase().equals(arr2[i].toLowerCase())) {\n",
    "                    msg = \"The arrays contain differences in elements\";\n",
    "                    break;\n",
    "                }\n",
    "            }\n",
    "        }\n",
    "        System.out.println(msg);\n",
    "    }\n",
    "}"
   ]
  },
  {
   "cell_type": "markdown",
   "metadata": {},
   "source": [
    "### Question 2\n",
    "**What is the output of the following code?**\n",
    "\n",
    "```java\n",
    "String s = \"Hello World!\";\n",
    "System.out.println(s.length());\n",
    "```\n",
    "\n",
    "a) `11`\n",
    "\n",
    "b) `12`\n",
    "\n",
    "c) `13`\n",
    "\n",
    "d) `10`\n",
    "\n",
    "Answer: B\n",
    "\n",
    "---\n"
   ]
  },
  {
   "cell_type": "code",
   "execution_count": 3,
   "metadata": {
    "vscode": {
     "languageId": "java"
    }
   },
   "outputs": [
    {
     "name": "stdout",
     "output_type": "stream",
     "text": [
      "12\n"
     ]
    }
   ],
   "source": [
    "String s = \"Hello World!\";\n",
    "System.out.println(s.length());"
   ]
  },
  {
   "cell_type": "markdown",
   "metadata": {},
   "source": [
    "### Question 3\n",
    "\n",
    "**Which of the following is a correct way to create an instance of the String class?**\n",
    "\n",
    "a) `String s = 'Hello';`\n",
    "\n",
    "b) `String s = new String(\"Hello\");`\n",
    "\n",
    "c) `String s = String(\"Hello\");`\n",
    "\n",
    "d) `String s = Hello;`\n",
    "\n",
    "Answer: B\n",
    "\n",
    "---"
   ]
  },
  {
   "cell_type": "code",
   "execution_count": 4,
   "metadata": {
    "vscode": {
     "languageId": "java"
    }
   },
   "outputs": [
    {
     "name": "stdout",
     "output_type": "stream",
     "text": [
      "Correct String: Hello\n"
     ]
    }
   ],
   "source": [
    "String correctString = new String(\"Hello\");\n",
    "System.out.println(\"Correct String: \" + correctString);"
   ]
  }
 ],
 "metadata": {
  "kernelspec": {
   "display_name": "Java",
   "language": "java",
   "name": "java"
  },
  "language_info": {
   "codemirror_mode": "java",
   "file_extension": ".jshell",
   "mimetype": "text/x-java-source",
   "name": "Java",
   "pygments_lexer": "java",
   "version": "17.0.12+8-LTS-286"
  }
 },
 "nbformat": 4,
 "nbformat_minor": 2
}
