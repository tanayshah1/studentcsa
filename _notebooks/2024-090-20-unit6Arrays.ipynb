{
 "cells": [
  {
   "cell_type": "code",
   "execution_count": 4,
   "metadata": {},
   "outputs": [
    {
     "name": "stdout",
     "output_type": "stream",
     "text": [
      "[audi, bmw, ford, toyota]\n"
     ]
    }
   ],
   "source": [
    " String[]carNames = {\"audi\", \"bmw\", \"ford\", \"toyota\"}; // Declare and initialize a string array\n",
    "System.out.println(Arrays.toString(carNames));"
   ]
  },
  {
   "cell_type": "code",
   "execution_count": 7,
   "metadata": {},
   "outputs": [
    {
     "name": "stdout",
     "output_type": "stream",
     "text": [
      "[A, C, C, D]\n"
     ]
    }
   ],
   "source": [
    "String[]grades = {\"A\", \"B\", \"C\", \"D\"}; // Declare and initialize a string array\n",
    "//System.out.println(Arrays.toString(grades));\n",
    "\n",
    "grades[1] = \"C\";\n",
    "System.out.println(Arrays.toString(grades));\n"
   ]
  },
  {
   "cell_type": "code",
   "execution_count": 8,
   "metadata": {},
   "outputs": [
    {
     "name": "stdout",
     "output_type": "stream",
     "text": [
      "The average of the grades is: 67.83333333333333\n"
     ]
    }
   ],
   "source": [
    "public class GradeAverage {\n",
    "    public static void main(String[] args) {\n",
    "        /* grades out of 100 */\n",
    "        int[] grades = {90, 50, 70, 20, 80, 97};\n",
    "        int sum = 0;\n",
    "        double average;\n",
    "        \n",
    "        for (int i = 0; i<grades.length;i++) {\n",
    "            sum += grades[i]; \n",
    "        }\n",
    "       \n",
    "        average = (double) sum / grades.length; /* missing code */\n",
    "        \n",
    "        System.out.println(\"The average of the grades is: \" + average);\n",
    "    }\n",
    "}\n",
    "\n",
    "GradeAverage.main(null);"
   ]
  },
  {
   "cell_type": "code",
   "execution_count": 9,
   "metadata": {},
   "outputs": [
    {
     "ename": "CompilationException",
     "evalue": "",
     "output_type": "error",
     "traceback": [
      "\u001b[1m\u001b[30m|   \u001b[1m\u001b[30mprivate double findMinEven(int [] values) \u001b[0m\u001b[1m\u001b[30m\u001b[41m{\u001b[0m",
      "\u001b[1m\u001b[30m|   \u001b[1m\u001b[30m\u001b[41m    /*Function here */\u001b[0m",
      "\u001b[1m\u001b[30m|   \u001b[1m\u001b[30m\u001b[41m}\u001b[0m",
      "\u001b[1m\u001b[31mmissing return statement\u001b[0m",
      ""
     ]
    }
   ],
   "source": [
    "private double findMinEven(int [] values) {\n",
    "    for \n",
    "}\n",
    "\n",
    "int[] nums = {};\n",
    "System.out.println(findMinEven(nums));"
   ]
  }
 ],
 "metadata": {
  "kernelspec": {
   "display_name": "Java",
   "language": "java",
   "name": "java"
  },
  "language_info": {
   "codemirror_mode": "java",
   "file_extension": ".jshell",
   "mimetype": "text/x-java-source",
   "name": "java",
   "pygments_lexer": "java",
   "version": "17.0.11+7-LTS-207"
  }
 },
 "nbformat": 4,
 "nbformat_minor": 2
}
