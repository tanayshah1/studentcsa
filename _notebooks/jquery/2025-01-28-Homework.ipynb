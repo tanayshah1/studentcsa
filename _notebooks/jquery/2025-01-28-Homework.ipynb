{
 "cells": [
  {
   "cell_type": "raw",
   "metadata": {
    "vscode": {
     "languageId": "raw"
    }
   },
   "source": [
    "---\n",
    "layout: post\n",
    "toc: true\n",
    "title: JQuery/Thymeleaf Homework\n",
    "description: Homework for JQuery/Thymeleaf \n",
    "menu: nav/jquery-thymeleafp3.html\n",
    "author: Akhil, Tarun, Kayden\n",
    "permalink: /period3/jquery-thymeleaf-homework\n",
    "---"
   ]
  },
  {
   "cell_type": "markdown",
   "metadata": {},
   "source": [
    "# Question 1: jQuery - Dynamic Content Update\n",
    "\n",
    "Objective:\n",
    "Use jQuery to dynamically update a p element with user input from an input field when a button is clicked."
   ]
  },
  {
   "cell_type": "code",
   "execution_count": 1,
   "metadata": {},
   "outputs": [
    {
     "data": {
      "text/html": [
       "\n",
       "    <input type=\"text\" id=\"userInput\" placeholder=\"Enter text\">\n",
       "    <button id=\"updateButton\">Update</button>\n",
       "    <p id=\"output\">This will change based on your input.</p>\n",
       "\n",
       "    <script src=\"https://code.jquery.com/jquery-3.6.0.min.js\"></script>\n",
       "    <script>\n",
       "        $(document).ready(function() {\n",
       "            $('#updateButton').click(function() {\n",
       "                var inputText = $('#userInput').val();  // Get the value from the input field\n",
       "                $('#output').text(inputText);  // Update the <p> element with the input value\n",
       "            });\n",
       "        });\n",
       "    </script>\n"
      ],
      "text/plain": [
       "<IPython.core.display.HTML object>"
      ]
     },
     "metadata": {},
     "output_type": "display_data"
    }
   ],
   "source": [
    "from IPython.display import display, HTML, Javascript\n",
    "\n",
    "# Define the HTML and JavaScript\n",
    "html_content = \"\"\"\n",
    "    <input type=\"text\" id=\"userInput\" placeholder=\"Enter text\">\n",
    "    <button id=\"updateButton\">Update</button>\n",
    "    <p id=\"output\">This will change based on your input.</p>\n",
    "\n",
    "    <script src=\"https://code.jquery.com/jquery-3.6.0.min.js\"></script>\n",
    "    <script>\n",
    "        $(document).ready(function() {\n",
    "            $('#updateButton').click(function() {\n",
    "                var inputText = $('#userInput').val();  // Get the value from the input field\n",
    "                $('#output').text(inputText);  // Update the <p> element with the input value\n",
    "            });\n",
    "        });\n",
    "    </script>\n",
    "\"\"\"\n",
    "\n",
    "# Display the content in the notebook\n",
    "display(HTML(html_content))"
   ]
  },
  {
   "cell_type": "markdown",
   "metadata": {
    "vscode": {
     "languageId": "html"
    }
   },
   "source": [
    "<head>\n",
    "    <title>jQuery Dynamic Update</title>\n",
    "    <script src=\"https://code.jquery.com/jquery-3.6.0.min.js\"></script>\n",
    "</head>\n",
    "<body>\n",
    "\n",
    "<script>\n",
    "    $(document).ready(function() {\n",
    "        // TODO: Implement live text update\n",
    "        // TODO: Display character count\n",
    "        // TODO: Show warning if character limit is reached\n",
    "    });\n",
    "</script>"
   ]
  },
  {
   "cell_type": "markdown",
   "metadata": {},
   "source": [
    "# Question 2: Thymeleaf - Displaying a List of Items\n",
    "\n",
    "Objective:\n",
    "Use Thymeleaf to display a list of students stored in a backend Java controller.\n",
    "\n",
    "Info you may need:\n",
    "  - student.getStatus(): Returns True if the student passed, returns False if the student failed\n",
    "  - student.getName(): Returns student name\n",
    "  - student.getGrade(): Returns student grade"
   ]
  },
  {
   "cell_type": "code",
   "execution_count": 2,
   "metadata": {},
   "outputs": [
    {
     "data": {
      "text/html": [
       "\n",
       "<!DOCTYPE html>\n",
       "<html lang=\"en\">\n",
       "<head>\n",
       "    <meta charset=\"UTF-8\">\n",
       "    <meta name=\"viewport\" content=\"width=device-width, initial-scale=1.0\">\n",
       "    <title>Student List</title>\n",
       "    <style>\n",
       "        .failed {\n",
       "            color: red;\n",
       "            font-weight: bold;\n",
       "        }\n",
       "    </style>\n",
       "</head>\n",
       "<body>\n",
       "    <h2>Student List</h2>\n",
       "    <table border=\"1\">\n",
       "        <thead>\n",
       "            <tr>\n",
       "                <th>Name</th>\n",
       "                <th>Grade</th>\n",
       "                <th>Status</th>\n",
       "            </tr>\n",
       "        </thead>\n",
       "        <tbody>\n",
       "\n",
       "        <tr class=\"\">\n",
       "            <td>Alice</td>\n",
       "            <td>A</td>\n",
       "            <td>Passed</td>\n",
       "        </tr>\n",
       "    \n",
       "        <tr class=\"failed\">\n",
       "            <td>Bob</td>\n",
       "            <td>C</td>\n",
       "            <td>Failed</td>\n",
       "        </tr>\n",
       "    \n",
       "        <tr class=\"\">\n",
       "            <td>Charlie</td>\n",
       "            <td>B</td>\n",
       "            <td>Passed</td>\n",
       "        </tr>\n",
       "    \n",
       "        </tbody>\n",
       "    </table>\n",
       "</body>\n",
       "</html>\n"
      ],
      "text/plain": [
       "<IPython.core.display.HTML object>"
      ]
     },
     "metadata": {},
     "output_type": "display_data"
    }
   ],
   "source": [
    "from IPython.display import display, HTML\n",
    "\n",
    "# Sample data representing the students\n",
    "students = [\n",
    "    {\"name\": \"Alice\", \"grade\": \"A\", \"status\": True},\n",
    "    {\"name\": \"Bob\", \"grade\": \"C\", \"status\": False},\n",
    "    {\"name\": \"Charlie\", \"grade\": \"B\", \"status\": True}\n",
    "]\n",
    "\n",
    "# HTML structure for the table\n",
    "table_html = \"\"\"\n",
    "<!DOCTYPE html>\n",
    "<html lang=\"en\">\n",
    "<head>\n",
    "    <meta charset=\"UTF-8\">\n",
    "    <meta name=\"viewport\" content=\"width=device-width, initial-scale=1.0\">\n",
    "    <title>Student List</title>\n",
    "    <style>\n",
    "        .failed {\n",
    "            color: red;\n",
    "            font-weight: bold;\n",
    "        }\n",
    "    </style>\n",
    "</head>\n",
    "<body>\n",
    "    <h2>Student List</h2>\n",
    "    <table border=\"1\">\n",
    "        <thead>\n",
    "            <tr>\n",
    "                <th>Name</th>\n",
    "                <th>Grade</th>\n",
    "                <th>Status</th>\n",
    "            </tr>\n",
    "        </thead>\n",
    "        <tbody>\n",
    "\"\"\"\n",
    "\n",
    "# Loop through students and create a table row for each student\n",
    "for student in students:\n",
    "    status_text = \"Passed\" if student[\"status\"] else \"Failed\"\n",
    "    status_class = \"failed\" if not student[\"status\"] else \"\"\n",
    "    table_html += f\"\"\"\n",
    "        <tr class=\"{status_class}\">\n",
    "            <td>{student['name']}</td>\n",
    "            <td>{student['grade']}</td>\n",
    "            <td>{status_text}</td>\n",
    "        </tr>\n",
    "    \"\"\"\n",
    "\n",
    "# Closing tags for the table and the rest of the HTML\n",
    "table_html += \"\"\"\n",
    "        </tbody>\n",
    "    </table>\n",
    "</body>\n",
    "</html>\n",
    "\"\"\"\n",
    "\n",
    "# Display the HTML in the notebook\n",
    "display(HTML(table_html))\n"
   ]
  },
  {
   "cell_type": "markdown",
   "metadata": {},
   "source": [
    "# Bonus Question:\n",
    "\n",
    "Why is Thymeleaf better than creating a regular table? What are any potential pros and cons of Thymeleaf tables?\n",
    "\n",
    "\n",
    "Thymeleaf is a tool that helps create dynamic tables on the server side, keeping the code clean and separate. It automatically protects against security issues but doesn't support things like real-time updates or interactive features. If you need those, you'd have to use JavaScript or other tools. Thymeleaf works best for simpler applications where the server handles most of the work. "
   ]
  }
 ],
 "metadata": {
  "kernelspec": {
   "display_name": "venv",
   "language": "python",
   "name": "python3"
  },
  "language_info": {
   "codemirror_mode": {
    "name": "ipython",
    "version": 3
   },
   "file_extension": ".py",
   "mimetype": "text/x-python",
   "name": "python",
   "nbconvert_exporter": "python",
   "pygments_lexer": "ipython3",
   "version": "3.11.4"
  },
  "orig_nbformat": 4
 },
 "nbformat": 4,
 "nbformat_minor": 2
}
