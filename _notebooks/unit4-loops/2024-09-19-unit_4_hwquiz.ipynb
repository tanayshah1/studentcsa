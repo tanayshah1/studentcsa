{
 "cells": [
  {
   "cell_type": "markdown",
   "metadata": {},
   "source": [
    "---\n",
    "layout: post\n",
    "type: collab\n",
    "title: Unit 4 - HW Quiz\n",
    "description: Unit 4 Team Teach HW QUIZ\n",
    "comments: true\n",
    "permalink: /csa/unit4-p1/unit4-hwquiz\n",
    "menu: nav/csa_unit4_p1.html\n",
    "author: hanlun, saaras, arthur, miheer, eshaan, beijan\n",
    "---"
   ]
  },
  {
   "cell_type": "markdown",
   "metadata": {},
   "source": [
    "## Unit 4 - Iteration:\n",
    "- This is the homework quiz for unit 4, iterations\n",
    "- 4 multiple choice questions\n",
    "- 2 programming hacks\n",
    "- 1 bonus programming hack (required to get above 0.9)"
   ]
  },
  {
   "cell_type": "markdown",
   "metadata": {},
   "source": [
    "### Question 1:\n",
    "What does the following code print?   \n",
    "\n",
    "A. 5 6 7 8 9   \n",
    "\n",
    "B. 4 5 6 7 8 9 10 11 12   \n",
    "\n",
    "C. 3 5 7 9 11   \n",
    "\n",
    "D. 3 4 5 6 7 8 9 10 11 12   \n",
    "\n",
    "<details>\n",
    "<summary>Click to reveal answer:</summary> \n",
    "  D\n",
    "</details>\n",
    "\n",
    "Explain your answer. (explanation is graded not answer)"
   ]
  },
  {
   "cell_type": "code",
   "execution_count": null,
   "metadata": {
    "vscode": {
     "languageId": "java"
    }
   },
   "outputs": [],
   "source": [
    "for (int i = 3; i <= 12; i++) {\n",
    "   System.out.print(i + \" \");\n",
    "}"
   ]
  },
  {
   "cell_type": "markdown",
   "metadata": {},
   "source": [
    "D. Because the system will print out the i value which increases i by one starting at 3 up until 12. Hence, it will repeat "
   ]
  },
  {
   "cell_type": "markdown",
   "metadata": {},
   "source": [
    "### Bonus:\n",
    "- Explain the difference between using a variable like i inside a for loop, vs. using a variable that exists in the code itself for a while loop"
   ]
  },
  {
   "cell_type": "markdown",
   "metadata": {},
   "source": [
    "There could be a couple reasons why someone uses a variable on hosted inside a loop or a class compared to a global variable defined outside. For example, scope and reusability. If that variable is only used for the loop then there is no point in cluttering up your code in defining it outside the loop, so use a for loop. However if that variable is needed outside the loop then use a while loop. "
   ]
  },
  {
   "cell_type": "markdown",
   "metadata": {},
   "source": [
    "### Question 2:\n",
    "How many times does the following method print a \"*\" ?\n",
    "\n",
    "A. 9\n",
    "\n",
    "B. 7\n",
    "\n",
    "C. 8\n",
    "\n",
    "D. 6\n",
    "\n",
    "<details>\n",
    "<summary>Click to reveal answer:</summary> \n",
    "  C\n",
    "</details>\n",
    "\n",
    "Explain your answer. (explanation is graded not answer)"
   ]
  },
  {
   "cell_type": "markdown",
   "metadata": {},
   "source": [
    "C. It will print 8 times as the count starts at 3 and ends at 11, and since it increases by one, the loop will repeat 11-3 times or 8 times. "
   ]
  },
  {
   "cell_type": "code",
   "execution_count": 1,
   "metadata": {
    "vscode": {
     "languageId": "java"
    }
   },
   "outputs": [
    {
     "name": "stdout",
     "output_type": "stream",
     "text": [
      "********"
     ]
    }
   ],
   "source": [
    "for (int i = 3; i < 11; i++) {\n",
    "   System.out.print(\"*\");\n",
    "}"
   ]
  },
  {
   "cell_type": "markdown",
   "metadata": {},
   "source": [
    "### Question 3:\n",
    "What does the following code print?\n",
    "\n",
    "A. -4 -3 -2 -1 0\n",
    "\n",
    "B. -5 -4 -3 -2 -1\n",
    "\n",
    "C. 5 4 3 2 1\n",
    "\n",
    "<details>\n",
    "<summary>Click to reveal answer:</summary> \n",
    "  A\n",
    "</details>\n",
    "\n",
    "Explain your answer. (explanation is graded not answer)"
   ]
  },
  {
   "cell_type": "markdown",
   "metadata": {},
   "source": [
    "A. It will print -4 -3 -2 -1 0 because it makes x start at -5, print x, and then add one to x. \n"
   ]
  },
  {
   "cell_type": "code",
   "execution_count": 3,
   "metadata": {
    "vscode": {
     "languageId": "java"
    }
   },
   "outputs": [
    {
     "name": "stdout",
     "output_type": "stream",
     "text": [
      "-4 -3 -2 -1 0 "
     ]
    }
   ],
   "source": [
    "int x = -5;\n",
    "while (x < 0)\n",
    "{\n",
    "   x++;\n",
    "   System.out.print(x + \" \");\n",
    "}"
   ]
  },
  {
   "cell_type": "markdown",
   "metadata": {},
   "source": [
    "### Question 4:\n",
    "What does the following code print?\n",
    "\n",
    "A. 20\n",
    "\n",
    "B. 21\n",
    "\n",
    "C. 25\n",
    "\n",
    "D. 30\n",
    "\n",
    "<details>\n",
    "<summary>Click to reveal answer:</summary> \n",
    "  B\n",
    "</details>\n",
    "\n",
    "Explain your answer. (explanation is graded not answer)"
   ]
  },
  {
   "cell_type": "markdown",
   "metadata": {},
   "source": [
    "B. It will print 20 because if the i variable is even then it will double it and add it to the sum and if its odd then it will just add. "
   ]
  },
  {
   "cell_type": "code",
   "execution_count": null,
   "metadata": {
    "vscode": {
     "languageId": "java"
    }
   },
   "outputs": [],
   "source": [
    "int sum = 0;\n",
    "\n",
    "for (int i = 1; i <= 5; i++) {\n",
    "    if (i % 2 == 0) {\n",
    "        sum += i * 2;\n",
    "    } else {\n",
    "        sum += i;\n",
    "    }\n",
    "}\n",
    "\n",
    "System.out.println(sum);"
   ]
  },
  {
   "cell_type": "markdown",
   "metadata": {},
   "source": [
    "## Loops HW Hack"
   ]
  },
  {
   "cell_type": "markdown",
   "metadata": {},
   "source": [
    "### Easy Hack\n",
    "- Use a while loop to find the numbers from 1-50 that are divisible by 3 or 5, then store them into a list (make sure to print it out at the end)\n",
    "- Use a for loop to do the same thing detailed above"
   ]
  },
  {
   "cell_type": "code",
   "execution_count": 17,
   "metadata": {
    "vscode": {
     "languageId": "java"
    }
   },
   "outputs": [
    {
     "name": "stdout",
     "output_type": "stream",
     "text": [
      "Numbers divisible by 3 or 5 (while loop): 3 5 6 9 10 12 15 18 20 21 24 25 27 30 33 35 36 39 40 42 45 48 50 \n"
     ]
    }
   ],
   "source": [
    "// While loop: \n",
    "\n",
    "public class DivisibleByThreeOrFive {\n",
    "    public static void main(String[] args) {\n",
    "        // Using a while loop\n",
    "        int[] divisibleByThreeOrFiveWhile = new int[50]; \n",
    "        int count = 0; \n",
    "        int i = 1; \n",
    "\n",
    "        while (i <= 50) {\n",
    "            if (i % 3 == 0 || i % 5 == 0) {\n",
    "                divisibleByThreeOrFiveWhile[count] = i; \n",
    "                count++; \n",
    "            }\n",
    "            i++; \n",
    "        }\n",
    "\n",
    "        System.out.print(\"Numbers divisible by 3 or 5 (while loop): \");\n",
    "        for (int j = 0; j < count; j++) {\n",
    "            System.out.print(divisibleByThreeOrFiveWhile[j] + \" \");\n",
    "        }\n",
    "        System.out.println(); \n",
    "    }\n",
    "}\n",
    "\n",
    "DivisibleByThreeOrFive.main(new String[0]);\n"
   ]
  },
  {
   "cell_type": "code",
   "execution_count": 16,
   "metadata": {
    "vscode": {
     "languageId": "java"
    }
   },
   "outputs": [
    {
     "name": "stdout",
     "output_type": "stream",
     "text": [
      "Numbers divisible by 3 or 5 (for loop): 3 5 6 9 10 12 15 18 20 21 24 25 27 30 33 35 36 39 40 42 45 48 50 \n"
     ]
    }
   ],
   "source": [
    "// For loop: \n",
    "\n",
    "public class DivisibleByThreeOrFive {\n",
    "    public static void main(String[] args) {\n",
    "        // Using a for loop\n",
    "        int[] divisibleByThreeOrFiveFor = new int[50]; \n",
    "        int count = 0; \n",
    "\n",
    "        for (int i = 1; i <= 50; i++) {\n",
    "            if (i % 3 == 0 || i % 5 == 0) {\n",
    "                divisibleByThreeOrFiveFor[count] = i; \n",
    "                count++;\n",
    "            }\n",
    "        }\n",
    "\n",
    "        // Print the result\n",
    "        System.out.print(\"Numbers divisible by 3 or 5 (for loop): \");\n",
    "        for (int j = 0; j < count; j++) {\n",
    "            System.out.print(divisibleByThreeOrFiveFor[j] + \" \");\n",
    "        }\n",
    "        System.out.println(); \n",
    "    }\n",
    "}\n",
    "\n",
    "DivisibleByThreeOrFive.main(new String[0]);"
   ]
  },
  {
   "cell_type": "markdown",
   "metadata": {},
   "source": [
    "### Harder Hack\n",
    "#### Palindromes are numbers that have the same value when reversed (ex: “123321” or “323”). Create a program that uses a while loop that outputs all palindromes in any given list. \n",
    "\n",
    "Sample Input: \n",
    "test_list = [5672, 235, 5537, 6032, 317, 8460, 1672, 8104, 7770, 4442, 913, 2508, 1116, 9969, 9091, 522, 8756, 9527, 7968, 1520, 4444, 515, 2882, 6556, 595]\n",
    "\n",
    "Sample Output:\n",
    "4444, 515, 2882, 6556, 595"
   ]
  },
  {
   "cell_type": "code",
   "execution_count": 8,
   "metadata": {
    "vscode": {
     "languageId": "java"
    }
   },
   "outputs": [
    {
     "name": "stdout",
     "output_type": "stream",
     "text": [
      "Palindromes: 4444, 515, 2882, 6556, 595\n"
     ]
    }
   ],
   "source": [
    "public class PalindromeFinder {\n",
    "    public static void main(String[] args) {\n",
    "        int[] testList = {5672, 235, 5537, 6032, 317, 8460, 1672, 8104, 7770, \n",
    "                          4442, 913, 2508, 1116, 9969, 9091, 522, 8756, \n",
    "                          9527, 7968, 1520, 4444, 515, 2882, 6556, 595};\n",
    "        int[] palindromes = new int[testList.length];\n",
    "        int count = 0; \n",
    "        int index = 0; \n",
    "\n",
    "        while (index < testList.length) {\n",
    "            if (isPalindrome(testList[index])) {\n",
    "                palindromes[count] = testList[index]; \n",
    "                count++; \n",
    "            }\n",
    "            index++; \n",
    "        }\n",
    "\n",
    "        System.out.print(\"Palindromes: \");\n",
    "        for (int j = 0; j < count; j++) {\n",
    "            System.out.print(palindromes[j]);\n",
    "            if (j < count - 1) {\n",
    "                System.out.print(\", \"); \n",
    "            }\n",
    "        }\n",
    "        System.out.println(); \n",
    "    }\n",
    "\n",
    "    public static boolean isPalindrome(int num) {\n",
    "        String numStr = String.valueOf(num); \n",
    "        int left = 0; \n",
    "        int right = numStr.length() - 1; \n",
    "\n",
    "        while (left < right) {\n",
    "            if (numStr.charAt(left) != numStr.charAt(right)) {\n",
    "                return false; \n",
    "            }\n",
    "            left++;\n",
    "            right--;\n",
    "        }\n",
    "        return true; \n",
    "    }\n",
    "}\n",
    "\n",
    "PalindromeFinder.main(new String[0]);"
   ]
  },
  {
   "cell_type": "markdown",
   "metadata": {},
   "source": [
    "## Bonus Hack (for above 0.9)\n",
    "### Use a for loop to output a spiral matrix with size n\n",
    "Example:\n",
    "\n",
    "Sample Input: n = 3\n",
    "\n",
    "Output: [[1, 2, 3], [8, 9, 4], [7, 6, 5]]"
   ]
  },
  {
   "cell_type": "code",
   "execution_count": 15,
   "metadata": {
    "vscode": {
     "languageId": "java"
    }
   },
   "outputs": [
    {
     "name": "stdout",
     "output_type": "stream",
     "text": [
      "Output:\n",
      "1\t2\t3\t\n",
      "8\t9\t4\t\n",
      "7\t6\t5\t\n"
     ]
    }
   ],
   "source": [
    "public class SpiralMatrix {\n",
    "    public static void main(String[] args) {\n",
    "        int n = 3;\n",
    "        int[][] matrix = new int[n][n];\n",
    "\n",
    "        int top = 0;\n",
    "        int bottom = n - 1;\n",
    "        int left = 0;\n",
    "        int right = n - 1;\n",
    "        int num = 1;\n",
    "\n",
    "        while (top <= bottom && left <= right) {\n",
    "            for (int i = left; i <= right; i++) {\n",
    "                matrix[top][i] = num++;\n",
    "            }\n",
    "            top++;\n",
    "\n",
    "            for (int i = top; i <= bottom; i++) {\n",
    "                matrix[i][right] = num++;\n",
    "            }\n",
    "            right--;\n",
    "\n",
    "            if (top <= bottom) {\n",
    "                for (int i = right; i >= left; i--) {\n",
    "                    matrix[bottom][i] = num++;\n",
    "                }\n",
    "                bottom--;\n",
    "            }\n",
    "\n",
    "            if (left <= right) {\n",
    "                for (int i = bottom; i >= top; i--) {\n",
    "                    matrix[i][left] = num++;\n",
    "                }\n",
    "                left++;\n",
    "            }\n",
    "        }\n",
    "\n",
    "        System.out.println(\"Output:\");\n",
    "        for (int i = 0; i < n; i++) {\n",
    "            for (int j = 0; j < n; j++) {\n",
    "                System.out.print(matrix[i][j] + \"\\t\");\n",
    "            }\n",
    "            System.out.println();\n",
    "        }\n",
    "    }\n",
    "}\n",
    "\n",
    "SpiralMatrix.main(new String[0]);"
   ]
  }
 ],
 "metadata": {
  "kernelspec": {
   "display_name": "Java",
   "language": "java",
   "name": "java"
  },
  "language_info": {
   "codemirror_mode": "java",
   "file_extension": ".jshell",
   "mimetype": "text/x-java-source",
   "name": "Java",
   "pygments_lexer": "java",
   "version": "17.0.12+8-LTS-286"
  }
 },
 "nbformat": 4,
 "nbformat_minor": 2
}
