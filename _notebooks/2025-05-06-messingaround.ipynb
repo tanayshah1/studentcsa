{
 "cells": [
  {
   "cell_type": "code",
   "execution_count": 6,
   "id": "ec75fae4",
   "metadata": {},
   "outputs": [
    {
     "name": "stdout",
     "output_type": "stream",
     "text": [
      "\n",
      "0 0 0 0 0 \n",
      "0 0 0 0 0 \n",
      "0 0 0 0 0 \n",
      "0 0 0 0 0 "
     ]
    },
    {
     "data": {
      "text/plain": [
       "5"
      ]
     },
     "execution_count": 6,
     "metadata": {},
     "output_type": "execute_result"
    }
   ],
   "source": [
    "int[][] n = new int[4][5];\n",
    "for (int i = 0; i < n.length; i++) {\n",
    "    System.out.print(\"\\n\");\n",
    "    for (int j = 0; j < n[i].length; j++) {\n",
    "        System.out.print(n[i][j] + \" \");\n",
    "    }\n",
    "}\n",
    "\n",
    "n[1].length"
   ]
  },
  {
   "cell_type": "code",
   "execution_count": 26,
   "id": "265bdd4d",
   "metadata": {},
   "outputs": [
    {
     "name": "stdout",
     "output_type": "stream",
     "text": [
      "3HelloWorld2"
     ]
    }
   ],
   "source": [
    "ArrayList<String> list = new ArrayList<>();\n",
    "list.add(\"Hello\");\n",
    "list.add(\"World\");\n",
    "list.add(\"World1\");\n",
    "System.out.print(list.size());\n",
    "System.out.print(list.get(0));\n",
    "System.out.print(list.remove(1));\n",
    "System.out.print(list.size());"
   ]
  },
  {
   "cell_type": "code",
   "execution_count": 34,
   "id": "349ecf8e",
   "metadata": {},
   "outputs": [
    {
     "name": "stdout",
     "output_type": "stream",
     "text": [
      "ll"
     ]
    }
   ],
   "source": [
    "String n = \"Hello\";\n",
    "System.out.print(n.substring(2,4));"
   ]
  },
  {
   "cell_type": "code",
   "execution_count": 57,
   "id": "3435667d",
   "metadata": {},
   "outputs": [
    {
     "name": "stdout",
     "output_type": "stream",
     "text": [
      "\n",
      "1 1 1 1 \n",
      "1 1 1 1 \n",
      "1 1 1 1 \n",
      "1 1 1 1 \n",
      "11\n",
      "2"
     ]
    }
   ],
   "source": [
    "int[][] n = new int[4][4];\n",
    "\n",
    "int count = 0;\n",
    "for (int i = 0; i < n.length; i++) {\n",
    "    for (int j = 0; j < n[i].length; j++) {\n",
    "        n[i][j] = 1;\n",
    "        count++;\n",
    "    }\n",
    "}\n",
    "\n",
    "for (int i = 0; i < n.length; i++) {\n",
    "    System.out.print(\"\\n\");\n",
    "    for (int j = 0; j < n[i].length; j++) {\n",
    "        System.out.print(n[i][j] + \" \");\n",
    "    }\n",
    "}\n",
    "\n",
    "System.out.print(\"\\n\");\n",
    "System.out.print(n[0][0]);\n",
    "\n",
    "int m = n.length;\n",
    "for (int j= 1; j < m; j++);\n",
    "{\n",
    "    for (int k= 1; k < m; k++)\n",
    "    {\n",
    "//        n[j][k] = n[j - 1][k] + n[j][k - 1];\n",
    "    }\n",
    "}\n",
    "    \n",
    "\n",
    "System.out.print(n[2][2]);\n",
    "\n",
    "j = 2;\n",
    "int k = 2;  \n",
    "System.out.print(\"\\n\");\n",
    "System.out.print(n[j - 1][k] + n[j][k - 1]);"
   ]
  },
  {
   "cell_type": "code",
   "execution_count": 67,
   "id": "b72fa7ac",
   "metadata": {},
   "outputs": [
    {
     "name": "stdout",
     "output_type": "stream",
     "text": [
      "01234567891011\n",
      "01234567"
     ]
    }
   ],
   "source": [
    "int count1 = 0; \n",
    "for (int i = 0; i < 4*3; i++)\n",
    "{\n",
    "    System.out.print(count1);\n",
    "    count1++; \n",
    "}\n",
    "\n",
    "int count2 = 0; \n",
    "System.out.print(\"\\n\");\n",
    "for (int i = 1; i <= 4; i++)\n",
    "{\n",
    "    for (int j = 1; j < 3; j++)\n",
    "    {\n",
    "        System.out.print(count2);\n",
    "        count2++;\n",
    "    }\n",
    "\n",
    "}\n",
    "\n"
   ]
  },
  {
   "cell_type": "code",
   "execution_count": 68,
   "id": "45726ac3",
   "metadata": {},
   "outputs": [
    {
     "name": "stdout",
     "output_type": "stream",
     "text": [
      "BCEF\n"
     ]
    }
   ],
   "source": [
    "String oldStr = \"ABCDEF\" ;\n",
    "String newStr = oldStr. substring(1, 3) + oldStr. substring (4);\n",
    "System. out .println(newStr);"
   ]
  },
  {
   "cell_type": "code",
   "execution_count": null,
   "id": "b983aca5",
   "metadata": {},
   "outputs": [],
   "source": [
    "2, 3, 0, 2, 1 "
   ]
  },
  {
   "cell_type": "code",
   "execution_count": 74,
   "id": "881ff217",
   "metadata": {},
   "outputs": [
    {
     "name": "stdout",
     "output_type": "stream",
     "text": [
      "[2, 0, 2, 1]"
     ]
    }
   ],
   "source": [
    "ArrayList<Integer> numList = new ArrayList<Integer>() ;\n",
    "numList.add (3);\n",
    "numList.add (2);\n",
    "numList.add (1);\n",
    "numList.add (1, 0); \n",
    "numList.set(0, 2);\n",
    "System. out. print (numList) ;"
   ]
  },
  {
   "cell_type": "code",
   "execution_count": 76,
   "id": "43c8198f",
   "metadata": {},
   "outputs": [
    {
     "name": "stdout",
     "output_type": "stream",
     "text": [
      "fox and groundhog\n"
     ]
    }
   ],
   "source": [
    "ArrayList<String> animals = new ArrayList<>();\n",
    "animals.add ( \"fox\");\n",
    "animals.add(0, \"squirrel\");\n",
    "animals.add (\"deer\");\n",
    "animals.set(2, \"groundhog\" ) ; animals.add (1, \"mouse\");\n",
    "System.out.println(animals.get (2) + \" and \" + animals.get (3)) ;"
   ]
  },
  {
   "cell_type": "code",
   "execution_count": 77,
   "id": "27b19cf4",
   "metadata": {},
   "outputs": [
    {
     "name": "stdout",
     "output_type": "stream",
     "text": [
      "[9.84, 8.93, 7.63]\n"
     ]
    }
   ],
   "source": [
    "ArrayList<Double> conditionRating = new ArrayList<Double> () ;\n",
    "conditionRating.add (9.84) ;\n",
    "\n",
    "conditionRating. add (8.93) ;\n",
    "\n",
    "conditionRating. add (7.65 );\n",
    "\n",
    "conditionRating.add (6.24) ;\n",
    "\n",
    "conditionRating. remove (2) ;\n",
    "\n",
    "conditionRating.set (2, 7.63);\n",
    "\n",
    "\n",
    "System.out.println (conditionRating);"
   ]
  },
  {
   "cell_type": "code",
   "execution_count": 79,
   "id": "f28273c7",
   "metadata": {},
   "outputs": [
    {
     "name": "stdout",
     "output_type": "stream",
     "text": [
      "[Green, Blue]\n"
     ]
    }
   ],
   "source": [
    "ArrayList<String> colors = new ArrayList<String>();\n",
    "colors. add (\"Red\" ) ; colors. add ( \"Orange\");\n",
    "colors.set(1, \"Yellow\"); colors.add(1, \"Green\" );\n",
    "colors. set(colors.size () - 1, \"Blue\");\n",
    "colors. remove (0) ;\n",
    "System. out. println (colors) ;"
   ]
  },
  {
   "cell_type": "code",
   "execution_count": 81,
   "id": "a66be2d5",
   "metadata": {},
   "outputs": [
    {
     "name": "stdout",
     "output_type": "stream",
     "text": [
      "[three, four, five]\n"
     ]
    }
   ],
   "source": [
    "ArrayList<String> numbers = new ArrayList<String>();\n",
    "numbers. add ( \"one\");\n",
    "\n",
    "numbers. add (\"two\" ) ;\n",
    "\n",
    "numbers. add (0, \"three\");\n",
    "\n",
    "numbers.set (2, \"four\");\n",
    "\n",
    "numbers. add ( \"five\");\n",
    "\n",
    "numbers.remove (1);\n",
    "\n",
    "System. out. println (numbers) ;\n"
   ]
  },
  {
   "cell_type": "code",
   "execution_count": 141,
   "id": "c8dca329",
   "metadata": {},
   "outputs": [
    {
     "name": "stdout",
     "output_type": "stream",
     "text": [
      "0.0\n",
      "3.5\n",
      "\n",
      "\n",
      "0.0\n"
     ]
    }
   ],
   "source": [
    "System.out.println((double)(2/4));\n",
    "\n",
    "double x = (double) 2/4+3;\n",
    "System.out.println(x);\n",
    "\n",
    "System.out.println(\"\\n\");\n",
    "\n",
    "double x = (double) (2/3);\n",
    "System.out.println(x);\n"
   ]
  },
  {
   "cell_type": "code",
   "execution_count": 143,
   "id": "02f3dd35",
   "metadata": {},
   "outputs": [
    {
     "name": "stdout",
     "output_type": "stream",
     "text": [
      "3.0\n",
      "2.5\n",
      "0.5\n"
     ]
    }
   ],
   "source": [
    "double x = (int) (5.5 - 2.5) ;\n",
    "double y = (int) 5.5 - 2.5;\n",
    "System.out. println (x);\n",
    "System.out. println (y);\n",
    "System.out. println (x - y);"
   ]
  },
  {
   "cell_type": "code",
   "execution_count": 137,
   "id": "faaccdb6",
   "metadata": {},
   "outputs": [
    {
     "name": "stdout",
     "output_type": "stream",
     "text": [
      "8\n"
     ]
    }
   ],
   "source": [
    "int x = (int)(Math.random()*10);\n",
    "System.out.println(x);"
   ]
  },
  {
   "cell_type": "code",
   "execution_count": 147,
   "id": "38801faf",
   "metadata": {},
   "outputs": [
    {
     "name": "stdout",
     "output_type": "stream",
     "text": [
      "5.0\n"
     ]
    }
   ],
   "source": [
    "double y = (int) 5.9;\n",
    "System.out. println (y);"
   ]
  },
  {
   "cell_type": "code",
   "execution_count": 152,
   "id": "34d34a14",
   "metadata": {},
   "outputs": [
    {
     "name": "stdout",
     "output_type": "stream",
     "text": [
      "4\n"
     ]
    }
   ],
   "source": [
    "ArrayList<String> values = new ArrayList<String>();\n",
    "\n",
    "values.add(\"apple\");\n",
    "values.add(\"banana\");\n",
    "values.add(\"coconut\");\n",
    "values.add(\"lemon\");\n",
    "values.add(\"orange\");\n",
    "values.add(\"pear\");\n",
    "int count = 0;\n",
    "for (String word : values)\n",
    "{\n",
    "if (word.indexOf(\"a\") >= 0)\n",
    "{\n",
    "count++;\n",
    "}\n",
    "}\n",
    "System.out.println(count) ;"
   ]
  },
  {
   "cell_type": "code",
   "execution_count": 157,
   "id": "028739b8",
   "metadata": {},
   "outputs": [
    {
     "name": "stdout",
     "output_type": "stream",
     "text": [
      "true\n",
      "false\n",
      "true\n"
     ]
    }
   ],
   "source": [
    "String alpha = new String (\"APCS\");\n",
    "String beta = new String(\"APCS\");\n",
    "String delta = alpha;\n",
    "System.out.println(alpha.equals(beta)) ;\n",
    "System. out. println (alpha == beta) ;\n",
    "System. out. println(alpha == delta) ;"
   ]
  },
  {
   "cell_type": "code",
   "execution_count": 159,
   "id": "c053145f",
   "metadata": {},
   "outputs": [
    {
     "name": "stdout",
     "output_type": "stream",
     "text": [
      "false\n"
     ]
    }
   ],
   "source": [
    "String alpha = new String (\"hello\");\n",
    "String beta = new String(\"hello\");\n",
    "System. out. println (alpha == beta) ;"
   ]
  },
  {
   "cell_type": "code",
   "execution_count": 165,
   "id": "9f3ab1f6",
   "metadata": {},
   "outputs": [
    {
     "name": "stdout",
     "output_type": "stream",
     "text": [
      "10.0\n",
      "6.0\n"
     ]
    }
   ],
   "source": [
    "int a = 5;\n",
    "int b = 2;\n",
    "double c = 3.0;\n",
    "System.out. println(5 + a / b*c- 1);\n",
    "System.out. println(a / b*c);"
   ]
  },
  {
   "cell_type": "code",
   "execution_count": null,
   "id": "84d1b8f8",
   "metadata": {},
   "outputs": [
    {
     "data": {
      "text/plain": [
       "4"
      ]
     },
     "execution_count": 167,
     "metadata": {},
     "output_type": "execute_result"
    }
   ],
   "source": [
    "int[][] n = new int[4][5];\n"
   ]
  },
  {
   "cell_type": "code",
   "execution_count": 1,
   "id": "21f6f801",
   "metadata": {},
   "outputs": [
    {
     "name": "stdout",
     "output_type": "stream",
     "text": [
      "\n",
      "0 1 2 3 \n",
      "4 5 6 7 \n",
      "8 9 10 11 \n",
      "12 13 14 15 "
     ]
    },
    {
     "ename": "EvalException",
     "evalue": "Index 4 out of bounds for length 4",
     "output_type": "error",
     "traceback": [
      "\u001b[1m\u001b[31m---------------------------------------------------------------------------\u001b[0m",
      "\u001b[1m\u001b[31mjava.lang.ArrayIndexOutOfBoundsException: Index 4 out of bounds for length 4\u001b[0m",
      "\u001b[1m\u001b[31m\tat .(#16:1)\u001b[0m"
     ]
    }
   ],
   "source": [
    "int[][] n = new int[4][4];\n",
    "\n",
    "int count = 0;\n",
    "for (int i = 0; i < n.length; i++) {\n",
    "    for (int j = 0; j < n[i].length; j++) {\n",
    "        n[i][j] = count;\n",
    "        count++;\n",
    "    }\n",
    "}\n",
    "\n",
    "for (int i = 0; i < n.length; i++) {\n",
    "    System.out.print(\"\\n\");\n",
    "    for (int j = 0; j < n[i].length; j++) {\n",
    "        System.out.print(n[i][j] + \" \");\n",
    "    }\n",
    "}\n",
    "\n",
    "n[4][0]\n",
    "\n"
   ]
  },
  {
   "cell_type": "code",
   "execution_count": 4,
   "id": "b360392c",
   "metadata": {},
   "outputs": [
    {
     "name": "stdout",
     "output_type": "stream",
     "text": [
      "7\n"
     ]
    }
   ],
   "source": [
    "\n",
    "int[] oldArray = {1, 2, 3, 4, 5, 6, 7, 8, 9};\n",
    "int[][] newArray = new int[3][3];\n",
    "int row = 0; int col = 0;\n",
    "for (int index = 0; index < oldArray.length; index++)\n",
    "{\n",
    "    newArray[row][col] = oldArray[index]; row++;\n",
    "if ((row % 3) == 0)\n",
    "{\n",
    "col++;\n",
    "row = 0;\n",
    "}\n",
    "}\n",
    "System.out.println(newArray[0][2]);"
   ]
  },
  {
   "cell_type": "code",
   "execution_count": 1,
   "id": "be901d45",
   "metadata": {},
   "outputs": [
    {
     "name": "stdout",
     "output_type": "stream",
     "text": [
      "\n",
      "1 1 1 1 \n",
      "1 2 3 4 \n",
      "1 3 6 10 \n",
      "1 4 10 20 "
     ]
    }
   ],
   "source": [
    "int[][] mat = new int[4][4];\n",
    "\n",
    "for (int i = 0; i < mat.length; i++) {\n",
    "    for (int j = 0; j < mat[i].length; j++) {\n",
    "        mat[i][j] = 1;\n",
    "    }\n",
    "}\n",
    "\n",
    "\n",
    "int n = mat. length;\n",
    "\n",
    "for (int j= 1;j<n; j++)\n",
    "{\n",
    "    for (int k = 1; k < n; k++)\n",
    "    {\n",
    "        mat[j][k] = mat[j - 1][k] + mat[j][k -1];\n",
    "    }\n",
    "}\n",
    "\n",
    "mat[2][2];\n",
    "\n",
    "\n",
    "for (int i = 0; i < mat.length; i++) {\n",
    "    System.out.print(\"\\n\");\n",
    "    for (int j = 0; j < mat[i].length; j++) {\n",
    "        System.out.print(mat[i][j] + \" \");\n",
    "    }\n",
    "}\n",
    "\n",
    "\n"
   ]
  },
  {
   "cell_type": "code",
   "execution_count": 20,
   "id": "51f6dbfc",
   "metadata": {},
   "outputs": [
    {
     "name": "stdout",
     "output_type": "stream",
     "text": [
      "0. 0\n",
      "\n",
      "1. 0\n",
      "\n",
      "2. 0\n",
      "\n",
      "3. 0\n",
      "\n",
      "4. 0\n",
      "\n",
      "5. 0\n",
      "\n",
      "6. 0\n",
      "\n",
      "7. 0\n",
      "\n",
      "8. 0\n",
      "\n",
      "9. 0\n",
      "\n",
      "10. 0\n",
      "\n"
     ]
    }
   ],
   "source": [
    "int[] ray = new int[11];\n",
    "int count = 0; \n",
    "\n",
    "for (int n : ray)\n",
    "{\n",
    "    System.out.println(count + \". \" + n);\n",
    "    System.out.print(\"\\n\");\n",
    "    count++;\n",
    "}"
   ]
  }
 ],
 "metadata": {
  "kernelspec": {
   "display_name": "Java",
   "language": "java",
   "name": "java"
  },
  "language_info": {
   "codemirror_mode": "java",
   "file_extension": ".jshell",
   "mimetype": "text/x-java-source",
   "name": "java",
   "pygments_lexer": "java",
   "version": "17.0.12+8-LTS-286"
  }
 },
 "nbformat": 4,
 "nbformat_minor": 5
}
