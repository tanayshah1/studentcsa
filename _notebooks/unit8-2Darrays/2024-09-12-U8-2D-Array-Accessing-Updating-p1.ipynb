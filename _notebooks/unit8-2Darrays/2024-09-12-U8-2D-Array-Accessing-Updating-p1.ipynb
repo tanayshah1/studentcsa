{
 "cells": [
  {
   "cell_type": "raw",
   "metadata": {
    "vscode": {
     "languageId": "raw"
    }
   },
   "source": [
    "---\n",
    "layout: post\n",
    "toc: true\n",
    "title: Unit 8 - 2D Arrays Accessing and Updating\n",
    "description: 2D Arrays Lesson\n",
    "authors: Anusha Khobare\n",
    "permalink: /unit8lesson-p1-accessing-updating\n",
    "menu: nav/csa_unit8_p1.html\n",
    "---"
   ]
  },
  {
   "cell_type": "markdown",
   "metadata": {},
   "source": [
    "## Accessing and updating the values of a 2D array\n",
    "In Java, accessing and updating values in a 2D array is done using the row and column indices. The general format is:\n",
    "\n",
    "~~~\n",
    "- **Accessing a value**: array[row][column]\n",
    "- **Updating a value**: array[row][column] = newValue;\n",
    "~~~\n",
    "\n",
    "![image](https://github.com/user-attachments/assets/b1f79b97-f81b-4ea5-951d-5c098fae0767)\n"
   ]
  },
  {
   "cell_type": "markdown",
   "metadata": {},
   "source": [
    "### Popcorn Hack 1 (Part 2)\n",
    "- **Update the values of the array, you made in part 1 to the group members in another group**"
   ]
  },
  {
   "cell_type": "code",
   "execution_count": 11,
   "metadata": {},
   "outputs": [
    {
     "name": "stdout",
     "output_type": "stream",
     "text": [
      "0 0 0 \n",
      "0 0 0 \n",
      "0 0 0 \n",
      "My new array1 2 3 \n",
      "4 5 6 \n",
      "7 8 9 \n"
     ]
    }
   ],
   "source": [
    "// Boiler Plate Code\n",
    "        int[][] myArray = new int[3][3];\n",
    "\n",
    "        // Display Array Code below\n",
    "        for(int i = 0; i < myArray.length; i++) {\n",
    "            for (int j = 0; j < myArray[i].length; j++) {\n",
    "                System.out.print(myArray[i][j] + \" \");\n",
    "            }\n",
    "            System.out.println();\n",
    "        }\n",
    "\n",
    "\n",
    "myArray[0][0] = 1;\n",
    "myArray[0][1] = 2;\n",
    "myArray[0][2] = 3;\n",
    "myArray[1][0] = 4;\n",
    "myArray[1][1] = 5;\n",
    "myArray[1][2] = 6;\n",
    "myArray[2][0] = 7;\n",
    "myArray[2][1] = 8;\n",
    "myArray[2][2] = 9;\n",
    "\n",
    "System.out.print(\"My new array\");\n",
    "for(int i = 0; i < myArray.length; i++) {\n",
    "    for (int j = 0; j < myArray[i].length; j++) {\n",
    "        System.out.print(myArray[i][j] + \" \");\n",
    "    }\n",
    "    System.out.println();\n",
    "}"
   ]
  }
 ],
 "metadata": {
  "kernelspec": {
   "display_name": "Java",
   "language": "java",
   "name": "java"
  },
  "language_info": {
   "codemirror_mode": "java",
   "file_extension": ".jshell",
   "mimetype": "text/x-java-source",
   "name": "java",
   "pygments_lexer": "java",
   "version": "17.0.11+7-LTS-207"
  },
  "orig_nbformat": 4
 },
 "nbformat": 4,
 "nbformat_minor": 2
}
