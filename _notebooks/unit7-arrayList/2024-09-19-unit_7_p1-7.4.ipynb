{
 "cells": [
  {
   "cell_type": "raw",
   "metadata": {
    "vscode": {
     "languageId": "raw"
    }
   },
   "source": [
    "---\n",
    "layout: post\n",
    "toc: true\n",
    "title: 7.4 - Developing Algorithms Using ArrayLists\n",
    "description: ArrayLists Lesson\n",
    "authors: Aidan Lau, Saathvik Gampa, Sri Surapaneni, Tanav Kambhampati\n",
    "categories: [AP CSA]\n",
    "type: ccc\n",
    "permalink: /csa/unit7-p1/unit7-4\n",
    "menu: nav/csa_unit7_p1.html\n",
    "---"
   ]
  },
  {
   "cell_type": "markdown",
   "metadata": {},
   "source": [
    "# 7.4 Developing Algorithms Using ArrayLists\n",
    "\n",
    "Common Arraylist Methods: \n",
    "- size(): Returns the size of the arraylist as an Integer\n",
    "- add(object): Adds an object to the end of your ArrayList\n",
    "- void add(index, object): Addes an object to an index of your choice. Shifts the index of everything to the right by one and increases size by 1\n",
    "- get(index): Retrieves the object at the index specified\n",
    "- set(index, obj): Like void add, but instead of adding, it replaces the object that's already in that index\n",
    "- remove(index): Removes the object at specified index"
   ]
  },
  {
   "cell_type": "code",
   "execution_count": 1,
   "metadata": {
    "vscode": {
     "languageId": "java"
    }
   },
   "outputs": [
    {
     "name": "stdout",
     "output_type": "stream",
     "text": [
      "3\n"
     ]
    }
   ],
   "source": [
    "//size() & add(object)\n",
    "\n",
    "ArrayList<Double> numbers = new ArrayList<>();\n",
    "    numbers.add(1.0);\n",
    "    numbers.add(2.0);\n",
    "    numbers.add(3.0);\n",
    "\n",
    "int size = numbers.size();\n",
    "\n",
    "System.out.println(size);"
   ]
  },
  {
   "cell_type": "code",
   "execution_count": 4,
   "metadata": {
    "vscode": {
     "languageId": "java"
    }
   },
   "outputs": [
    {
     "name": "stdout",
     "output_type": "stream",
     "text": [
      "3.0\n",
      "4.0\n",
      "3.0\n"
     ]
    }
   ],
   "source": [
    "//void add(index, object)\n",
    "//get(index)\n",
    "ArrayList<Double> numbers = new ArrayList<>();\n",
    "    numbers.add(1.0);\n",
    "    numbers.add(2.0);\n",
    "    numbers.add(3.0);\n",
    "\n",
    "System.out.println(numbers.get(2));\n",
    "\n",
    "    numbers.add(2,4.0);\n",
    "\n",
    "System.out.println(numbers.get(2));\n",
    "System.out.println(numbers.get(3));"
   ]
  },
  {
   "cell_type": "code",
   "execution_count": 3,
   "metadata": {
    "vscode": {
     "languageId": "java"
    }
   },
   "outputs": [
    {
     "name": "stdout",
     "output_type": "stream",
     "text": [
      "3.0\n",
      "4.0\n"
     ]
    }
   ],
   "source": [
    "// set(index, obj)\n",
    "\n",
    "\n",
    "ArrayList<Double> numbers = new ArrayList<>();\n",
    "    numbers.add(1.0);\n",
    "    numbers.add(2.0);\n",
    "    numbers.add(3.0);\n",
    "\n",
    "System.out.println(numbers.get(2));\n",
    "\n",
    "    numbers.set(2,4.0);\n",
    "\n",
    "System.out.println(numbers.get(2));\n"
   ]
  },
  {
   "cell_type": "code",
   "execution_count": 1,
   "metadata": {
    "vscode": {
     "languageId": "java"
    }
   },
   "outputs": [
    {
     "name": "stdout",
     "output_type": "stream",
     "text": [
      "3.0\n",
      "1.0\n",
      "2.0\n"
     ]
    }
   ],
   "source": [
    "// remove(index)\n",
    "\n",
    "\n",
    "ArrayList<Double> numbers = new ArrayList<>();\n",
    "    numbers.add(1.0);\n",
    "    numbers.add(2.0);\n",
    "    numbers.add(3.0);\n",
    "System.out.println(numbers.get(2));\n",
    "    numbers.remove(2);\n",
    "\n",
    "System.out.println(numbers.get(0));\n",
    "System.out.println(numbers.get(1));\n",
    "//System.out.println(numbers.get(2));\n",
    "\n",
    "//anybody know why we get an IndexOutofBoundsException eror?\n",
    "// cause we removed the index 2, so the size of the array is 2 now, so we can't get the index 2"
   ]
  },
  {
   "cell_type": "markdown",
   "metadata": {},
   "source": [
    "Here's an example of a program using **Arrays** that finds the maximum value:"
   ]
  },
  {
   "cell_type": "code",
   "execution_count": 9,
   "metadata": {
    "vscode": {
     "languageId": "java"
    }
   },
   "outputs": [
    {
     "name": "stdout",
     "output_type": "stream",
     "text": [
      "The maximum value is: 5.0\n"
     ]
    }
   ],
   "source": [
    "public class Main {\n",
    "    public static void main(String[] args) {\n",
    "        double[] values = {1, 2, 3, 4, 5};\n",
    "        //valus.add(2, 6);\n",
    "\n",
    "        double maxValue = findMax(values);\n",
    "        System.out.println(\"The maximum value is: \" + maxValue);\n",
    "    }\n",
    "\n",
    "    private static double findMax(double[] values) {\n",
    "        double max = values[0];\n",
    "        for (int index = 1; index < values.length; index++) {\n",
    "            if (values[index] > max) {\n",
    "                max = values[index];\n",
    "            }\n",
    "        }\n",
    "        return max;\n",
    "    }\n",
    "}\n",
    "Main.main(null);"
   ]
  },
  {
   "cell_type": "markdown",
   "metadata": {},
   "source": [
    "#### Now, how can we modify this to use an ArrayList?"
   ]
  },
  {
   "cell_type": "code",
   "execution_count": 2,
   "metadata": {
    "vscode": {
     "languageId": "java"
    }
   },
   "outputs": [
    {
     "name": "stdout",
     "output_type": "stream",
     "text": [
      "The maximum value is: 4.9\n"
     ]
    }
   ],
   "source": [
    "\n",
    "public class Main {\n",
    "    public static void main(String[] args) {\n",
    "        ArrayList<Double> values = new ArrayList<>();\n",
    "        values.add(1.2);\n",
    "        values.add(3.4);\n",
    "        values.add(2.6);\n",
    "        values.add(4.9);\n",
    "        values.add(0.8);\n",
    "\n",
    "        double maxValue = findMax(values);\n",
    "        System.out.println(\"The maximum value is: \" + maxValue);\n",
    "    }\n",
    "\n",
    "    private static double findMax(ArrayList<Double> values) {\n",
    "        double max = values.get(0);\n",
    "\n",
    "        for (int index = 1; index < values.size(); index++) {\n",
    "            if (values.get(index) > max) {\n",
    "                max = values.get(index);\n",
    "            }\n",
    "        }\n",
    "        return max; \n",
    "    }\n",
    "}\n",
    "Main.main(null);\n"
   ]
  },
  {
   "cell_type": "markdown",
   "metadata": {},
   "source": [
    "Homework:\n",
    "\n",
    "(Paragraph Answer)\n",
    "1. What is the difference between the two examples above. Which one is better and why?\n",
    "\n",
    "(Code Answer)\n",
    "\n",
    "2. Make your own algorithm using ArrayLists that finds the sum of the elements in the ArrayList"
   ]
  },
  {
   "cell_type": "markdown",
   "metadata": {},
   "source": [
    "The first example uses a fixed-size array, while the second uses an ArrayList, which allows for dynamic resizing and easier manipulation of elements. ArrayList is generally better for flexibility and ease of use, while arrays may be more efficient when the size is known upfront. Overall, the second example is more practical for most use cases due to its versatility."
   ]
  },
  {
   "cell_type": "code",
   "execution_count": 2,
   "metadata": {
    "vscode": {
     "languageId": "java"
    }
   },
   "outputs": [
    {
     "name": "stdout",
     "output_type": "stream",
     "text": [
      "The sum of the elements is: 17.3\n"
     ]
    }
   ],
   "source": [
    "import java.util.ArrayList;\n",
    "\n",
    "public class Main {\n",
    "    public static void main(String[] args) {\n",
    "        // Create an ArrayList and add some elements\n",
    "        ArrayList<Double> values = new ArrayList<>();\n",
    "        values.add(1.5);\n",
    "        values.add(3.8);\n",
    "        values.add(2.7);\n",
    "        values.add(4.0);\n",
    "        values.add(5.3);\n",
    "\n",
    "        // Find and print the sum of elements\n",
    "        double sum = findSum(values);\n",
    "        System.out.println(\"The sum of the elements is: \" + sum);\n",
    "    }\n",
    "\n",
    "    // Method to calculate the sum of elements in the ArrayList\n",
    "    private static double findSum(ArrayList<Double> values) {\n",
    "        double sum = 0;\n",
    "        \n",
    "        // Iterate through the ArrayList and accumulate the sum\n",
    "        for (int i = 0; i < values.size(); i++) {\n",
    "            sum += values.get(i);\n",
    "        }\n",
    "\n",
    "        return sum;\n",
    "    }\n",
    "}\n",
    "\n",
    "Main.main(null);\n"
   ]
  }
 ],
 "metadata": {
  "kernelspec": {
   "display_name": "Java",
   "language": "java",
   "name": "java"
  },
  "language_info": {
   "codemirror_mode": "java",
   "file_extension": ".jshell",
   "mimetype": "text/x-java-source",
   "name": "Java",
   "pygments_lexer": "java",
   "version": "17.0.12+8-LTS-286"
  }
 },
 "nbformat": 4,
 "nbformat_minor": 4
}
