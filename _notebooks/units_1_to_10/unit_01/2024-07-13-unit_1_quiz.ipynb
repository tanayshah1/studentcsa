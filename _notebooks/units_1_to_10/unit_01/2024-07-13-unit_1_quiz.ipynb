{
 "cells": [
  {
   "cell_type": "raw",
   "metadata": {
    "vscode": {
     "languageId": "raw"
    }
   },
   "source": [
    "---\n",
    "layout: post\n",
    "title: Quiz Questions for APCSA Unit 1\n",
    "description: Questions and Code Cells for the Quiz on Unit 1\n",
    "categories: [CSA-Quiz]\n",
    "permalink: /csa/units/quiz1\n",
    "menu: nav/CSA_Units/csa_unit1.html\n",
    "author: Soham Kamat & Aniket Chakradeo\n",
    "---"
   ]
  },
  {
   "cell_type": "markdown",
   "metadata": {},
   "source": [
    "## Unit 1: Primitive Types"
   ]
  },
  {
   "cell_type": "markdown",
   "metadata": {},
   "source": [
    "### Question 1\n",
    "\n",
    "Which of the following is a valid declaration of a variable of type int in Java?<br>\n",
    "a) int 123variable;<br>\n",
    "b) int variable123;<br>\n",
    "c) int variable#123;<br>\n",
    "d) int variable 123;\n",
    "\n",
    "Answer: b) int variable123;\n"
   ]
  },
  {
   "cell_type": "code",
   "execution_count": null,
   "metadata": {},
   "outputs": [
    {
     "ename": "",
     "evalue": "",
     "output_type": "error",
     "traceback": [
      "\u001b[1;31mFailed to start the Kernel. \n",
      "\u001b[1;31mException in thread \"main\" java.lang.UnsupportedClassVersionError: io/github/spencerpark/ijava/IJava has been compiled by a more recent version of the Java Runtime (class file version 53.0), this version of the Java Runtime only recognizes class file versions up to 52.0\n",
      "\u001b[1;31m\tat java.lang.ClassLoader.defineClass1(Native Method)\n",
      "\u001b[1;31m\tat java.lang.ClassLoader.defineClass(ClassLoader.java:756)\n",
      "\u001b[1;31m\tat java.security.SecureClassLoader.defineClass(SecureClassLoader.java:142)\n",
      "\u001b[1;31m\tat java.net.URLClassLoader.defineClass(URLClassLoader.java:473)\n",
      "\u001b[1;31m\tat java.net.URLClassLoader.access$100(URLClassLoader.java:74)\n",
      "\u001b[1;31m\tat java.net.URLClassLoader$1.run(URLClassLoader.java:369)\n",
      "\u001b[1;31m\tat java.net.URLClassLoader$1.run(URLClassLoader.java:363)\n",
      "\u001b[1;31m\tat java.security.AccessController.doPrivileged(Native Method)\n",
      "\u001b[1;31m\tat java.net.URLClassLoader.findClass(URLClassLoader.java:362)\n",
      "\u001b[1;31m\tat java.lang.ClassLoader.loadClass(ClassLoader.java:418)\n",
      "\u001b[1;31m\tat sun.misc.Launcher$AppClassLoader.loadClass(Launcher.java:359)\n",
      "\u001b[1;31m\tat java.lang.ClassLoader.loadClass(ClassLoader.java:351)\n",
      "\u001b[1;31m\tat sun.launcher.LauncherHelper.checkAndLoadMain(LauncherHelper.java:641). \n",
      "\u001b[1;31mView Jupyter <a href='command:jupyter.viewOutput'>log</a> for further details."
     ]
    }
   ],
   "source": [
    "// Q1 Hack: Define variables according to Java naming conventions.\n",
    "// For instance, is it snake_case, camelCase, or PascalCase?\n",
    "\n",
    "int variable123 = 123;\n",
    "System.out.println(variable123);"
   ]
  },
  {
   "cell_type": "markdown",
   "metadata": {},
   "source": [
    "### Question 2\n",
    "\n",
    "What is the value of the following expression in Java: 5 / 2?<br>\n",
    "a) 2.5<br>\n",
    "b) 3<br>\n",
    "c) 2<br>\n",
    "d) 2.0\n",
    "\n",
    "Answer: c) 2\n"
   ]
  },
  {
   "cell_type": "code",
   "execution_count": null,
   "metadata": {},
   "outputs": [],
   "source": [
    "// Q2.1 Hack: Show in code difference between integer and floating point division.\n",
    "// Q2.2 Hack: Show in code the differnt number types in Java and how they behave.\n",
    "// Behave means definition and assignment."
   ]
  },
  {
   "cell_type": "markdown",
   "metadata": {
    "vscode": {
     "languageId": "raw"
    }
   },
   "source": [
    "### Question 3\n",
    "\n",
    "Which primitive type is used to represent a single character in Java?<br>\n",
    "a) char<br>\n",
    "b) String<br>\n",
    "c) int<br>\n",
    "d) byte\n",
    "\n",
    "Answer: a) char"
   ]
  },
  {
   "cell_type": "code",
   "execution_count": null,
   "metadata": {},
   "outputs": [],
   "source": [
    "// Q3.1 Hack: Show in code all the the non-number Java primitive data types and how they behave.\n",
    "// Q3.2 Hack: Show in code the String data type and how it behaves."
   ]
  },
  {
   "cell_type": "markdown",
   "metadata": {},
   "source": [
    "### Question 4\n",
    "\n",
    "Answer the following questions based on the code cell:\n",
    "* a) What kind of types are person1 and person2? \n",
    "* Answer: \n",
    "* b) Do person1 and person3 point to the same value in memory?\n",
    "* Answer:\n",
    "* c) Is the integer \"number\" stored in the heap or in the stack?\n",
    "* Answer:\n",
    "* d) Is the value that \"person1\" points to stored in the heap or in the stack?\n",
    "* Answer: "
   ]
  },
  {
   "cell_type": "code",
   "execution_count": 1,
   "metadata": {},
   "outputs": [
    {
     "name": "stdout",
     "output_type": "stream",
     "text": [
      "16\n"
     ]
    }
   ],
   "source": [
    "public class Person {\n",
    "    String name;\n",
    "    int age;\n",
    "    int height;\n",
    "    String job;\n",
    "\n",
    "    public Person(String name, int age, int height, String job) {\n",
    "        this.name = name;\n",
    "        this.age = age;\n",
    "        this.height = height;\n",
    "        this.job = job;\n",
    "    }\n",
    "}\n",
    "\n",
    "public static void main(String[] args) {\n",
    "    Person person1 = new Person(\"Carl\", 25, 165, \"Construction Worker\");\n",
    "    Person person2 = new Person(\"Adam\", 29, 160, \"Truck Driver\");\n",
    "    Person person3 = person1;\n",
    "    int number = 16;\n",
    "    System.out.println(number);\n",
    "}\n",
    "main(null); // This is required in Jupiter Notebook to run the main method."
   ]
  },
  {
   "cell_type": "markdown",
   "metadata": {},
   "source": [
    "### Question 5 \n",
    "\n",
    "(a) Define primitive types and reference types in Java. The application is for banking, where you need to represent customer information.\n",
    "\n",
    "(b) Add comments for primitive types and reference types. In terms of memory allocation, discuss concepts like instance, stack, and heap where it adds value.\n",
    "\n",
    "(c) To assist in requirements, here are some required elements:\n",
    "- Create multiple customers from the `public class Account`.\n",
    "- Consider key class variables that a Bank may require: `name`, `balance`, `accountNumber`.\n",
    "- Create a two argument constructor using `name` and `balance`.\n",
    "- Consider in constructor how you will create a unique account number using `static int lastAccountNumber`\n",
    "- Define a method `calculateInterest` that works with getting and setting `double balance` using `private static double interestRate`."
   ]
  }
 ],
 "metadata": {
  "kernelspec": {
   "display_name": "Java",
   "language": "java",
   "name": "java"
  },
  "language_info": {
   "codemirror_mode": "java",
   "file_extension": ".jshell",
   "mimetype": "text/x-java-source",
   "name": "java",
   "pygments_lexer": "java",
   "version": "17.0.11+7-LTS-207"
  }
 },
 "nbformat": 4,
 "nbformat_minor": 2
}
