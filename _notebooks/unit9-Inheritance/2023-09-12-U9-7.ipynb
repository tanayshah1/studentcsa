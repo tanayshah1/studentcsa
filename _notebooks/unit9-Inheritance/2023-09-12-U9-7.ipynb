{
 "cells": [
  {
   "cell_type": "raw",
   "metadata": {
    "vscode": {
     "languageId": "raw"
    }
   },
   "source": [
    "---\n",
    "layout: post\n",
    "title:  9.7 Object Superclass\n",
    "permalink: /inheritance/object-superclass\n",
    "menu: nav/inheritance.html\n",
    "comments: true\n",
    "---"
   ]
  },
  {
   "cell_type": "markdown",
   "metadata": {},
   "source": [
    "## Object Superclass"
   ]
  },
  {
   "cell_type": "markdown",
   "metadata": {},
   "source": [
    "Learning Targets: \n",
    "   * What is the *Object* class\n",
    "   * Why is the *Object* class important to remember"
   ]
  },
  {
   "cell_type": "markdown",
   "metadata": {},
   "source": [
    "***"
   ]
  },
  {
   "cell_type": "markdown",
   "metadata": {},
   "source": [
    "Every class and object created **without** the ```extends``` keyword will be implicitly extended from the **[Object Superclass](https://docs.oracle.com/javase/8/docs/api/java/lang/Object.html)**. This means it will inherit some basic methods. Some notable methods are:\n",
    "1. ```getClass()```\n",
    "2. ```toString()```\n",
    "3. ```equals()```"
   ]
  },
  {
   "cell_type": "markdown",
   "metadata": {},
   "source": [
    "### So What?\n",
    "Well its important to keep in mind when writing out your class. If you are planning to have a **method** in your class/object that **matches** the basic **Object**, then it **must** be a ```public override``` because all of the Object methods are public.\n",
    "* are some methods from Object such as **getClass()** that you **cannot** override."
   ]
  },
  {
   "cell_type": "code",
   "execution_count": null,
   "metadata": {
    "vscode": {
     "languageId": "java"
    }
   },
   "outputs": [],
   "source": [
    "// this will return an error\n",
    "class Shape {\n",
    "    String toString(){\n",
    "        return \"Shape\";\n",
    "    }\n",
    "}"
   ]
  },
  {
   "cell_type": "code",
   "execution_count": 2,
   "metadata": {
    "vscode": {
     "languageId": "java"
    }
   },
   "outputs": [],
   "source": [
    "// this will be fine\n",
    "class Shape{\n",
    "    @Override\n",
    "    public String toString(){\n",
    "        return \"Shape\";\n",
    "    }\n",
    "}"
   ]
  },
  {
   "cell_type": "markdown",
   "metadata": {},
   "source": [
    "## Popcorn Hacks\n",
    "Create an example where you execute an unchanged method from *Object*, then execute a different method from *Object* that you changed."
   ]
  },
  {
   "cell_type": "code",
   "execution_count": 1,
   "metadata": {
    "vscode": {
     "languageId": "java"
    }
   },
   "outputs": [],
   "source": [
    "class Animal {\n",
    "    // Unchanged method from Object\n",
    "    @Override\n",
    "    public String toString() {\n",
    "        return \"This is an animal.\";\n",
    "    }\n",
    "}\n",
    "\n",
    "class Dog extends Animal {\n",
    "    // Overriding the toString method\n",
    "    @Override\n",
    "    public String toString() {\n",
    "        return \"This is a dog.\";\n",
    "    }\n",
    "\n",
    "    public void displayClassName() {\n",
    "        // Unchanged method from Object\n",
    "        System.out.println(\"Class name: \" + this.getClass().getSimpleName());\n",
    "    }\n",
    "}\n",
    "\n",
    "public class Main {\n",
    "    public static void main(String[] args) {\n",
    "        Animal myDog = new Dog();\n",
    "\n",
    "        // Execute the overridden toString method\n",
    "        System.out.println(myDog.toString()); // Output: This is a dog.\n",
    "\n",
    "        // Execute the unchanged method from Object\n",
    "        ((Dog) myDog).displayClassName(); // Output: Class name: Dog\n",
    "    }\n",
    "}\n"
   ]
  }
 ],
 "metadata": {
  "kernelspec": {
   "display_name": "Java",
   "language": "java",
   "name": "java"
  },
  "language_info": {
   "codemirror_mode": "java",
   "file_extension": ".jshell",
   "mimetype": "text/x-java-source",
   "name": "Java",
   "pygments_lexer": "java",
   "version": "17.0.12+8-LTS-286"
  }
 },
 "nbformat": 4,
 "nbformat_minor": 2
}
